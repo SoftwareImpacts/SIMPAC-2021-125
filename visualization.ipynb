{
 "cells": [
  {
   "cell_type": "markdown",
   "metadata": {},
   "source": [
    "# ANACIN-X \n",
    "\n",
    "## Kernel Distance Time Series (KDTS) vs Non-Determinism Visualizer"
   ]
  },
  {
   "cell_type": "markdown",
   "metadata": {},
   "source": [
    "### This notebook can be used to save and view the output of an ANACIN-X workflow execution. \n",
    "\n"
   ]
  },
  {
   "cell_type": "markdown",
   "metadata": {},
   "source": [
    "This document will be used to visualize kernel distance (KDTS) data produced by the ANACIN-X project at [this GitHub repository](https://github.com/TauferLab/ANACIN-X/tree/master).  Please refer to [Dylans paper]() and [the ANACIN-X README.md](https://github.com/TauferLab/ANACIN-X/blob/master/README.md) for more information about using the project.\n",
    "\n",
    "We’ll walk you through inputting what’s needed for visualization, and at the end you will have access to a .png image that displays the relationship between event graph kernel distance and the percentage of non-determinism in a given communication pattern.\n",
    "\n",
    "To start, run the following block of code to generate the first set of needed inputs."
   ]
  },
  {
   "cell_type": "markdown",
   "metadata": {},
   "source": [
    "Below you will find inputs for 3 system paths and 2 parameter settings.  We will describe each in more detail as you need them.\n",
    "\n",
    "1. The root to your ANACIN-X directory\n",
    "2. KDTS file w/ path\n",
    "3. JSON kernel configuration file w/ path\n",
    "4. Comm pattern name\n",
    "5. Percentage of topological non-determinism used in Unstructured Mesh communication\n",
    "\n",
    "Note that you can ignore the last selection if you are not using data from the Unstructured Mesh communication pattern."
   ]
  },
  {
   "cell_type": "markdown",
   "metadata": {},
   "source": [
    "First, run the following code block and use the selection tool below to target the path to the root of your project.  \n",
    "\n",
    "1. Click ‘Select’ to activate the tool.\n",
    "2. Your project root should be the path to the same directory that you ran your project from.  It may appear by default since it is the same directory this Jupyter file can be found in.\n",
    "3. Target the directory by clicking it.  Once the directory is targeted, click ‘Select’."
   ]
  },
  {
   "cell_type": "code",
   "execution_count": 1,
   "metadata": {},
   "outputs": [
    {
     "data": {
      "application/vnd.jupyter.widget-view+json": {
       "model_id": "d8e4c8f211ce4250a55791c56113d648",
       "version_major": 2,
       "version_minor": 0
      },
      "text/plain": [
       "FileChooser(path='/Users/nickbell/Documents/UTK/ANACINX/ANACIN-X', filename='', title='HTML(value='', layout=L…"
      ]
     },
     "metadata": {},
     "output_type": "display_data"
    }
   ],
   "source": [
    "from ipyfilechooser import FileChooser\n",
    "import ipywidgets as widgets\n",
    "from IPython.display import Image\n",
    "\n",
    "fc = FileChooser()\n",
    "display(fc)"
   ]
  },
  {
   "cell_type": "markdown",
   "metadata": {},
   "source": [
    "Second, run the following code block and use the selection tool below to target the path to the KDTS file you wish to visualize.\n",
    "\n",
    "1. Click ‘Select’ to activate the tool.\n",
    "2. Navigate to the output of your executions.  \n",
    "3. From there, follow the directory tree down according to the inputs you made when executing the project until you find a file title ‘kdts.pkl’.\n",
    "4. Target the file by clicking it.  Once the file is targeted, click ‘Select’."
   ]
  },
  {
   "cell_type": "code",
   "execution_count": 2,
   "metadata": {},
   "outputs": [
    {
     "data": {
      "application/vnd.jupyter.widget-view+json": {
       "model_id": "ca18ade894c64f478fffdbbc82c07834",
       "version_major": 2,
       "version_minor": 0
      },
      "text/plain": [
       "FileChooser(path='/Users/nickbell/Documents/UTK/ANACINX/ANACIN-X', filename='', title='HTML(value='', layout=L…"
      ]
     },
     "metadata": {},
     "output_type": "display_data"
    }
   ],
   "source": [
    "gfc = FileChooser()\n",
    "display(gfc)"
   ]
  },
  {
   "cell_type": "markdown",
   "metadata": {},
   "source": [
    "Third, run the following code block and use the selection tool below to target the path to the JSON configuration file which defines the graph kernel settings used when generating your KDTS file.\n",
    "\n",
    "1. Click ‘Select’ to activate the tool.  \n",
    "2. Navigate once more to the output of your executions.\n",
    "3. Within the root of your output, find the file with the .json file type.\n",
    "4. Target the file by clicking it.  One the file is targeted, click ‘Select’."
   ]
  },
  {
   "cell_type": "code",
   "execution_count": 3,
   "metadata": {},
   "outputs": [
    {
     "data": {
      "application/vnd.jupyter.widget-view+json": {
       "model_id": "3a986b37b2ed4a8c992c5d5e1f49e7c0",
       "version_major": 2,
       "version_minor": 0
      },
      "text/plain": [
       "FileChooser(path='/Users/nickbell/Documents/UTK/ANACINX/ANACIN-X', filename='', title='HTML(value='', layout=L…"
      ]
     },
     "metadata": {},
     "output_type": "display_data"
    }
   ],
   "source": [
    "kernel_fc = FileChooser()\n",
    "display(kernel_fc)"
   ]
  },
  {
   "cell_type": "markdown",
   "metadata": {},
   "source": [
    "You now need to choose which communication pattern was used for your run.  You can choose between 1 of the following 3 options:\n",
    "\n",
    "* message_race\n",
    "* amg2013\n",
    "* unstructured_mesh\n",
    "\n",
    "For a reference of which communication pattern was used, locate the run configuration file within your output directory and find the pattern on the first line.\n",
    "\n",
    "If you ran the Unstructured Mesh communication pattern, you will also need to select a percentage of non-determinism from the menu below.  You can determine which percentage is correct from the path chosen for your KDTS file above.\n",
    "\n",
    "If you did not run the Unstructured Mesh communication pattern, you can ignore the non-determinism percent selection."
   ]
  },
  {
   "cell_type": "code",
   "execution_count": 4,
   "metadata": {},
   "outputs": [
    {
     "data": {
      "application/vnd.jupyter.widget-view+json": {
       "model_id": "b721422f29c441e58c5a5295aff9d8c3",
       "version_major": 2,
       "version_minor": 0
      },
      "text/plain": [
       "RadioButtons(description='Communication Pattern:', layout=Layout(width='max-content'), options=('message_race'…"
      ]
     },
     "metadata": {},
     "output_type": "display_data"
    },
    {
     "data": {
      "application/vnd.jupyter.widget-view+json": {
       "model_id": "2d9562a48fcf40bf80ed7b1283434375",
       "version_major": 2,
       "version_minor": 0
      },
      "text/plain": [
       "Dropdown(description='Topological Non-Determinism Percent:', layout=Layout(width='max-content'), options=(0, 0…"
      ]
     },
     "metadata": {},
     "output_type": "display_data"
    }
   ],
   "source": [
    "# Generate and display comm pattern selection\n",
    "comm_pattern = widgets.RadioButtons(    \n",
    "    options=['message_race', 'amg2013', 'unstructured_mesh'],\n",
    "    layout={'width': 'max-content'}, # If the items' names are long\n",
    "    style = {'description_width':'initial'},\n",
    "    description='Communication Pattern:',\n",
    "    disabled=False\n",
    ")\n",
    "display(comm_pattern)\n",
    "\n",
    "# Generate and display non-determinism percent selection\n",
    "#if (comm_pattern.value == \"unstructured_mesh\"):\n",
    "unmesh_topo = widgets.Dropdown(\n",
    "    options=[0, 0.25, 0.5, 0.75, 1],\n",
    "    layout={'width': 'max-content'}, # If the items' names are long\n",
    "    style = {'description_width':'initial'},\n",
    "    description='Topological Non-Determinism Percent:',\n",
    "    disabled=False\n",
    ")\n",
    "display(unmesh_topo)"
   ]
  },
  {
   "cell_type": "markdown",
   "metadata": {},
   "source": [
    "Once these paths are selected, one last step of setup is getting the output file specified -- this process creates a .png file. \n",
    "\n",
    "The output path defaults to the ANACIN-X root, and needs to be in the following format:\n",
    "\n",
    "/path/to/filename\n",
    "\n",
    "The name of the file does *not* need a .png appended. Leave that out, it will be added automatically. Thus, a possible output path could be:\n",
    "\n",
    "/home/user98/ANACIN-X/my_msg_race\n",
    "\n",
    "Which will generate my_msg_race.png in the ANACIN-X folder. "
   ]
  },
  {
   "cell_type": "code",
   "execution_count": 5,
   "metadata": {},
   "outputs": [
    {
     "ename": "TypeError",
     "evalue": "unsupported operand type(s) for +: 'NoneType' and 'str'",
     "output_type": "error",
     "traceback": [
      "\u001b[0;31m---------------------------------------------------------------------------\u001b[0m",
      "\u001b[0;31mTypeError\u001b[0m                                 Traceback (most recent call last)",
      "\u001b[0;32m<ipython-input-5-2694a9b9d2dd>\u001b[0m in \u001b[0;36m<module>\u001b[0;34m\u001b[0m\n\u001b[1;32m      1\u001b[0m outpath = widgets.Text(\n\u001b[0;32m----> 2\u001b[0;31m     \u001b[0mvalue\u001b[0m\u001b[0;34m=\u001b[0m\u001b[0mfc\u001b[0m\u001b[0;34m.\u001b[0m\u001b[0mselected\u001b[0m \u001b[0;34m+\u001b[0m \u001b[0;34m\"file_name\"\u001b[0m\u001b[0;34m,\u001b[0m\u001b[0;34m\u001b[0m\u001b[0;34m\u001b[0m\u001b[0m\n\u001b[0m\u001b[1;32m      3\u001b[0m     \u001b[0mplaceholder\u001b[0m\u001b[0;34m=\u001b[0m\u001b[0;34m'/foo/bar'\u001b[0m\u001b[0;34m,\u001b[0m\u001b[0;34m\u001b[0m\u001b[0;34m\u001b[0m\u001b[0m\n\u001b[1;32m      4\u001b[0m     \u001b[0mstyle\u001b[0m \u001b[0;34m=\u001b[0m \u001b[0;34m{\u001b[0m\u001b[0;34m'description_width'\u001b[0m\u001b[0;34m:\u001b[0m\u001b[0;34m'initial'\u001b[0m\u001b[0;34m}\u001b[0m\u001b[0;34m,\u001b[0m\u001b[0;34m\u001b[0m\u001b[0;34m\u001b[0m\u001b[0m\n\u001b[1;32m      5\u001b[0m     \u001b[0mdescription\u001b[0m\u001b[0;34m=\u001b[0m\u001b[0;34m'Output file path:'\u001b[0m\u001b[0;34m,\u001b[0m\u001b[0;34m\u001b[0m\u001b[0;34m\u001b[0m\u001b[0m\n",
      "\u001b[0;31mTypeError\u001b[0m: unsupported operand type(s) for +: 'NoneType' and 'str'"
     ]
    }
   ],
   "source": [
    "outpath = widgets.Text(\n",
    "    value=fc.selected + \"file_name\",\n",
    "    placeholder='/foo/bar',\n",
    "    style = {'description_width':'initial'},\n",
    "    description='Output file path:',\n",
    "    layout={'width': '500px'},\n",
    "    disabled=False\n",
    ")\n",
    "\n",
    "display(outpath)"
   ]
  },
  {
   "cell_type": "markdown",
   "metadata": {},
   "source": [
    "Before generating the visualization, we calculate Pearsons r and Spearmans rho correlation values.\n",
    "\n",
    "Pearsons r value is a measure between 0 and 1 of linear correlation between two sets of data that falls.  In our case, Pearsons r measures the linear correlation between the percentage of nondeterminism in a communication pattern and the kernel distance in that pattern’s event graph.  For us, a high value (a value close to 1) is good.\n",
    "\n",
    "Spearmans rho value is a measure between 0 and 1 of how well the relationship between two variables can be represented with a monotonic function.  In our case, Spearmans rho measures this between the percentage of nondeterminism in a communication pattern and the kernel distance in that pattern’s event graph.  For us, a high value (a value close to 1) is good.\n",
    "\n",
    "We also print the corresponding p value for both of these.  The p value describes ... \n",
    "\n",
    "For more information about Pearsons r and Spearmans rho values, see the following links:\n",
    "\n",
    "[Pearsons r](https://en.wikipedia.org/wiki/Pearson_correlation_coefficient) and \n",
    "[Spearmans rho](https://en.wikipedia.org/wiki/Spearman%27s_rank_correlation_coefficient)"
   ]
  },
  {
   "cell_type": "markdown",
   "metadata": {},
   "source": [
    "Run the following cell to retrieve your r, rho, and p values and to visualize the ANACIN-X output. It will save the specified image file, and display it within this notebook."
   ]
  },
  {
   "cell_type": "code",
   "execution_count": null,
   "metadata": {
    "scrolled": false
   },
   "outputs": [],
   "source": [
    "if gfc.selected == \"unstructured_mesh\":\n",
    "    !python3 $fc.selected/anacin-x/event_graph_analysis/visualization/make_message_nd_plot.py $gfc.selected $comm_pattern.value $kernel_fc.selected $outpath.value --nd_neighbor_fraction $unmesh_topo.value\n",
    "else:\n",
    "    !python3 $fc.selected/anacin-x/event_graph_analysis/visualization/make_message_nd_plot.py $gfc.selected $comm_pattern.value $kernel_fc.selected $outpath.value\n",
    "    \n",
    "Image(filename=outpath.value+\".png\") "
   ]
  },
  {
   "cell_type": "markdown",
   "metadata": {},
   "source": [
    "You can find your visualization png file within the location you selected above.  We thank you for using the ANACIN-X software."
   ]
  }
 ],
 "metadata": {
  "kernelspec": {
   "display_name": "Python 3",
   "language": "python",
   "name": "python3"
  },
  "language_info": {
   "codemirror_mode": {
    "name": "ipython",
    "version": 3
   },
   "file_extension": ".py",
   "mimetype": "text/x-python",
   "name": "python",
   "nbconvert_exporter": "python",
   "pygments_lexer": "ipython3",
   "version": "3.8.3"
  }
 },
 "nbformat": 4,
 "nbformat_minor": 5
}
