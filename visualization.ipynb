{
 "cells": [
  {
   "cell_type": "markdown",
   "metadata": {},
   "source": [
    "# ANACIN-X \n",
    "\n",
    "## Kernel Distance Time Series (KDTS) vs Non-Determinism Visualizer"
   ]
  },
  {
   "cell_type": "markdown",
   "metadata": {},
   "source": [
    "### This notebook can be used to save and view the output of an ANACIN-X workflow execution. \n",
    "\n"
   ]
  },
  {
   "cell_type": "markdown",
   "metadata": {},
   "source": [
    "This document will be used to visualize kernel distance (KDTS) data produced by the ANACIN-X project at [this GitHub repository](https://github.com/TauferLab/ANACIN-X/tree/master).  Please refer to [Dylans paper]() and [the ANACIN-X README.md](https://github.com/TauferLab/ANACIN-X/blob/master/README.md) for more information about using the project.\n",
    "\n",
    "We’ll walk you through inputting what’s needed for visualization, and at the end you will have access to a .png image that displays the relationship between event graph kernel distance and the percentage of non-determinism in a given communication pattern.\n",
    "\n",
    "To start, run the following block of code to generate the first set of needed inputs."
   ]
  },
  {
   "cell_type": "markdown",
   "metadata": {},
   "source": [
    "Below you will find inputs for 3 system paths and 2 parameter settings.  We will describe each in more detail as you need them.\n",
    "\n",
    "1. The root to your ANACIN-X directory\n",
    "2. KDTS file w/ path\n",
    "3. JSON kernel configuration file w/ path\n",
    "4. Comm pattern name\n",
    "5. Percentage of topological non-determinism used in Unstructured Mesh communication\n",
    "\n",
    "Note that you can ignore the last selection if you are not using data from the Unstructured Mesh communication pattern."
   ]
  },
  {
   "cell_type": "markdown",
   "metadata": {},
   "source": [
    "First, run the following code block and use the selection tool below to target the path to the root of your project.  \n",
    "\n",
    "1. Click ‘Select’ to activate the tool.\n",
    "2. Your project root should be the path to the same directory that you ran your project from.  It may appear by default since it is the same directory this Jupyter file can be found in.\n",
    "3. Target the directory by clicking it.  Once the directory is targeted, click ‘Select’."
   ]
  },
  {
   "cell_type": "code",
   "execution_count": 2,
   "metadata": {},
   "outputs": [
    {
     "data": {
      "application/vnd.jupyter.widget-view+json": {
       "model_id": "88bf3c1061784949974b1b6701021b6b",
       "version_major": 2,
       "version_minor": 0
      },
      "text/plain": [
       "FileChooser(path='/Users/nickbell/Documents/UTK/ANACINX/ANACIN-X', filename='', title='HTML(value='', layout=L…"
      ]
     },
     "metadata": {},
     "output_type": "display_data"
    }
   ],
   "source": [
    "from ipyfilechooser import FileChooser\n",
    "import ipywidgets as widgets\n",
    "from IPython.display import Image\n",
    "\n",
    "fc = FileChooser()\n",
    "display(fc)"
   ]
  },
  {
   "cell_type": "markdown",
   "metadata": {},
   "source": [
    "Second, run the following code block and use the selection tool below to target the path to the KDTS file you wish to visualize.\n",
    "\n",
    "1. Click ‘Select’ to activate the tool.\n",
    "2. Navigate to the output of your executions.  \n",
    "3. From there, follow the directory tree down according to the inputs you made when executing the project until you find a file title ‘kdts.pkl’.\n",
    "4. Target the file by clicking it.  Once the file is targeted, click ‘Select’."
   ]
  },
  {
   "cell_type": "code",
   "execution_count": 3,
   "metadata": {
    "scrolled": false
   },
   "outputs": [
    {
     "data": {
      "application/vnd.jupyter.widget-view+json": {
       "model_id": "326f61d2f7484afdbb7ff840d8e8eb4c",
       "version_major": 2,
       "version_minor": 0
      },
      "text/plain": [
       "FileChooser(path='/Users/nickbell/Documents/UTK/ANACINX/ANACIN-X', filename='', title='HTML(value='', layout=L…"
      ]
     },
     "metadata": {},
     "output_type": "display_data"
    }
   ],
   "source": [
    "gfc = FileChooser()\n",
    "display(gfc)"
   ]
  },
  {
   "cell_type": "markdown",
   "metadata": {},
   "source": [
    "Third, run the following code block and use the selection tool below to target the path to the JSON configuration file which defines the graph kernel settings used when generating your KDTS file.\n",
    "\n",
    "1. Click ‘Select’ to activate the tool.  \n",
    "2. Navigate once more to the output of your executions.\n",
    "3. Within the root of your output, find the file with the .json file type.\n",
    "4. Target the file by clicking it.  One the file is targeted, click ‘Select’."
   ]
  },
  {
   "cell_type": "code",
   "execution_count": 6,
   "metadata": {},
   "outputs": [
    {
     "data": {
      "application/vnd.jupyter.widget-view+json": {
       "model_id": "f00762a55ab94164a19c472161448c0b",
       "version_major": 2,
       "version_minor": 0
      },
      "text/plain": [
       "FileChooser(path='/Users/nickbell/Documents/UTK/ANACINX/ANACIN-X', filename='', title='HTML(value='', layout=L…"
      ]
     },
     "metadata": {},
     "output_type": "display_data"
    }
   ],
   "source": [
    "kernel_fc = FileChooser()\n",
    "display(kernel_fc)"
   ]
  },
  {
   "cell_type": "markdown",
   "metadata": {},
   "source": [
    "You now need to choose which communication pattern was used for your run.  You can choose between 1 of the following 3 options:\n",
    "\n",
    "* message_race\n",
    "* amg2013\n",
    "* unstructured_mesh\n",
    "\n",
    "For a reference of which communication pattern was used, locate the run configuration file within your output directory and find the pattern on the first line."
   ]
  },
  {
   "cell_type": "code",
   "execution_count": 14,
   "metadata": {},
   "outputs": [
    {
     "data": {
      "application/vnd.jupyter.widget-view+json": {
       "model_id": "8be47defc9b0458db6dc76a1f4f9ba15",
       "version_major": 2,
       "version_minor": 0
      },
      "text/plain": [
       "RadioButtons(description='Communication Pattern:', layout=Layout(width='max-content'), options=('message_race'…"
      ]
     },
     "metadata": {},
     "output_type": "display_data"
    }
   ],
   "source": [
    "# Generate and display comm pattern selection\n",
    "comm_pattern = widgets.RadioButtons(    \n",
    "    options=['message_race', 'amg2013', 'unstructured_mesh'],\n",
    "    layout={'width': 'max-content'}, # If the items' names are long\n",
    "    style = {'description_width':'initial'},\n",
    "    description='Communication Pattern:',\n",
    "    disabled=False\n",
    ")\n",
    "display(comm_pattern)"
   ]
  },
  {
   "cell_type": "markdown",
   "metadata": {},
   "source": [
    "You need to choose the percentages of non-determinism used during your benchmark simulation by adjusting the sliders below.\n",
    "\n",
    "There are two types of non-determinism settings to select: message non-determinism and topological non-determinism. The topological non-determinism is only relevant if your communication pattern is unstructured mesh.\n",
    "\n",
    "For all benchmarks, you must select three values to define your message non-determinism settings: the starting percentage, the percentage step size, and the ending percentage.  These must satisfy the condition:\n",
    "\n",
    "starting percentage + (step size * number of percentages used) = ending percentage\n",
    "\n",
    "For a reference of which values were used, either find it in the path chosen for you KDTS file above or locate the run configuration file within your output directory and find the inputs under the line items: Starting Non-determinism Percentage, Non-determinism Percentage Step Size, and Ending Non-determinism Percentage.\n",
    "\n",
    "If you ran the Unstructured Mesh communication pattern, you will also need to select a percentage of topological non-determinism from the menu below.  You can determine which percentage is correct from the path chosen for your KDTS file above or from the run configuration file under the line item 'Topological Non-determinism Percentage'.\n",
    "\n",
    "If you did not run the Unstructured Mesh communication pattern, you can ignore the 'Topological Non-determinism Percent' selection."
   ]
  },
  {
   "cell_type": "code",
   "execution_count": 4,
   "metadata": {},
   "outputs": [
    {
     "data": {
      "application/vnd.jupyter.widget-view+json": {
       "model_id": "3976bcde7e2b42babaf9fa1ddc808dc6",
       "version_major": 2,
       "version_minor": 0
      },
      "text/plain": [
       "FloatSlider(value=0.0, continuous_update=False, description='Start ND%:', max=1.0, step=0.01)"
      ]
     },
     "metadata": {},
     "output_type": "display_data"
    },
    {
     "data": {
      "application/vnd.jupyter.widget-view+json": {
       "model_id": "bc00fc6535c74689a7092a886ad0deac",
       "version_major": 2,
       "version_minor": 0
      },
      "text/plain": [
       "FloatSlider(value=0.1, continuous_update=False, description='ND% Step Size:', max=1.0, step=0.01)"
      ]
     },
     "metadata": {},
     "output_type": "display_data"
    },
    {
     "data": {
      "application/vnd.jupyter.widget-view+json": {
       "model_id": "c4257c0848ce453797fcfd6a8ed68e71",
       "version_major": 2,
       "version_minor": 0
      },
      "text/plain": [
       "FloatSlider(value=1.0, continuous_update=False, description='Ending ND%:', max=1.0, step=0.01)"
      ]
     },
     "metadata": {},
     "output_type": "display_data"
    },
    {
     "data": {
      "application/vnd.jupyter.widget-view+json": {
       "model_id": "8b4be2c5eeed4c3eafdf1f0141e354e7",
       "version_major": 2,
       "version_minor": 0
      },
      "text/plain": [
       "FloatSlider(value=0.5, continuous_update=False, description='Topological ND%:', max=1.0, step=0.01)"
      ]
     },
     "metadata": {},
     "output_type": "display_data"
    }
   ],
   "source": [
    "# Generate and display starting non-determinism percentage selection in decimal format\n",
    "nd_start = widgets.FloatSlider(\n",
    "    value=0.00,\n",
    "    min=0.00,\n",
    "    max=1.00,\n",
    "    step=0.01,\n",
    "    #layout={'width': 'max-content'},\n",
    "    #style = {'description_width':'initial'},\n",
    "    description='Start ND%:',\n",
    "    disabled=False,\n",
    "    continuous_update=False,\n",
    "    orientation='horizontal',\n",
    "    readout=True,\n",
    "    readout_format='.2f',\n",
    ")\n",
    "display(nd_start)\n",
    "\n",
    "# Generate and display starting non-determinism percentage selection in decimal format\n",
    "nd_iter = widgets.FloatSlider(\n",
    "    value=0.10,\n",
    "    min=0.00,\n",
    "    max=1.00,\n",
    "    step=0.01,\n",
    "    #style = {'description_width':'initial'},\n",
    "    description='ND% Step Size:',\n",
    "    disabled=False,\n",
    "    continuous_update=False,\n",
    "    orientation='horizontal',\n",
    "    readout=True,\n",
    "    readout_format='.2f',\n",
    ")\n",
    "display(nd_iter)\n",
    "\n",
    "# Generate and display starting non-determinism percentage selection in decimal format\n",
    "nd_end = widgets.FloatSlider(\n",
    "    value=1.00,\n",
    "    min=0.00,\n",
    "    max=1.00,\n",
    "    step=0.01,\n",
    "    #style = {'description_width':'initial'},\n",
    "    description='Ending ND%:',\n",
    "    disabled=False,\n",
    "    continuous_update=False,\n",
    "    orientation='horizontal',\n",
    "    readout=True,\n",
    "    readout_format='.2f',\n",
    ")\n",
    "display(nd_end)\n",
    "\n",
    "# Generate and display non-determinism percent selection\n",
    "#if (comm_pattern.value == \"unstructured_mesh\"):\n",
    "unmesh_topo = widgets.FloatSlider(\n",
    "    value=0.50,\n",
    "    min=0.00,\n",
    "    max=1.00,\n",
    "    step=0.01,\n",
    "    #style = {'description_width':'initial'},\n",
    "    description='Topological ND%:',\n",
    "    disabled=False,\n",
    "    continuous_update=False,\n",
    "    orientation='horizontal',\n",
    "    readout=True,\n",
    "    readout_format='.2f',\n",
    ")\n",
    "display(unmesh_topo)"
   ]
  },
  {
   "cell_type": "markdown",
   "metadata": {},
   "source": [
    "The last step of setup is getting the output file specified -- this process creates a .png file. \n",
    "\n",
    "The output path defaults to the ANACIN-X root, and needs to be in the following format:\n",
    "\n",
    "/path/to/filename\n",
    "\n",
    "The name of the file does *not* need a .png appended. Leave that out, it will be added automatically. Thus, a possible output path could be:\n",
    "\n",
    "/home/user98/ANACIN-X/my_msg_race\n",
    "\n",
    "Which will generate my_msg_race.png in the ANACIN-X folder. "
   ]
  },
  {
   "cell_type": "code",
   "execution_count": 9,
   "metadata": {},
   "outputs": [
    {
     "data": {
      "application/vnd.jupyter.widget-view+json": {
       "model_id": "94f933c7906747269372741d4ebfee5a",
       "version_major": 2,
       "version_minor": 0
      },
      "text/plain": [
       "Text(value='/Users/nickbell/Documents/UTK/ANACINX/ANACIN-X/file_name', description='Output file path:', layout…"
      ]
     },
     "metadata": {},
     "output_type": "display_data"
    }
   ],
   "source": [
    "outpath = widgets.Text(\n",
    "    value=fc.selected + \"file_name\",\n",
    "    placeholder='/foo/bar',\n",
    "    style = {'description_width':'initial'},\n",
    "    description='Output file path:',\n",
    "    layout={'width': '500px'},\n",
    "    disabled=False\n",
    ")\n",
    "\n",
    "display(outpath)"
   ]
  },
  {
   "cell_type": "markdown",
   "metadata": {},
   "source": [
    "Before generating the visualization, we calculate Pearsons r and Spearmans rho correlation values.\n",
    "\n",
    "Pearsons r value is a measure between 0 and 1 of linear correlation between two sets of data that falls.  In our case, Pearsons r measures the linear correlation between the percentage of non-determinism in a communication pattern and the kernel distance in that pattern’s event graph.  For us, a high value (a value close to 1) is good.\n",
    "\n",
    "Spearmans rho value is a measure between 0 and 1 of how well the relationship between two variables can be represented with a monotonic function.  In our case, Spearmans rho measures this between the percentage of non-determinism in a communication pattern and the kernel distance in that pattern’s event graph.  For us, a high value (a value close to 1) is good.\n",
    "\n",
    "We also print the corresponding p value for both Pearsons r and Spearmans rho.  The p value describes the likelihood that the variables being studied, in this case percentage of non-determinism in a communication pattern and the kernel distance in that pattern’s event graph, don't have an effect on each other.  As such, a low p value (a value close to 0) means that the two variables are likely to affect each other.\n",
    "\n",
    "In summary, good results will have a high Pearsons r value, a high Spearmans rho value, and a low p value.\n",
    "\n",
    "For more information about Pearsons r, Spearmans rho, and p values, see the following links:\n",
    "* [Pearsons r](https://en.wikipedia.org/wiki/Pearson_correlation_coefficient) \n",
    "* [Spearmans rho](https://en.wikipedia.org/wiki/Spearman%27s_rank_correlation_coefficient)\n",
    "* [p value](https://en.wikipedia.org/wiki/P-value)"
   ]
  },
  {
   "cell_type": "markdown",
   "metadata": {},
   "source": [
    "Run the following cell to retrieve your r, rho, and p values and to visualize the ANACIN-X output. It will save the specified image file, and display it within this notebook."
   ]
  },
  {
   "cell_type": "code",
   "execution_count": 10,
   "metadata": {
    "scrolled": false
   },
   "outputs": [
    {
     "name": "stdout",
     "output_type": "stream",
     "text": [
      "Traceback (most recent call last):\r\n",
      "  File \"/Users/nickbell/Documents/UTK/ANACINX/ANACIN-X//anacin-x/event_graph_analysis/visualization/make_message_nd_plot.py\", line 18, in <module>\r\n",
      "    from graph_kernel_postprocessing import flatten_distance_matrix\r\n",
      "  File \"/Users/nickbell/Documents/UTK/ANACINX/ANACIN-X/anacin-x/event_graph_analysis/visualization/../graph_kernel_postprocessing.py\", line 2, in <module>\r\n",
      "    import igraph\r\n",
      "ModuleNotFoundError: No module named 'igraph'\r\n"
     ]
    },
    {
     "ename": "FileNotFoundError",
     "evalue": "[Errno 2] No such file or directory: '/Users/nickbell/Documents/UTK/ANACINX/ANACIN-X/file_name.png'",
     "output_type": "error",
     "traceback": [
      "\u001b[0;31m---------------------------------------------------------------------------\u001b[0m",
      "\u001b[0;31mFileNotFoundError\u001b[0m                         Traceback (most recent call last)",
      "\u001b[0;32m<ipython-input-10-0117e62f6e0f>\u001b[0m in \u001b[0;36m<module>\u001b[0;34m\u001b[0m\n\u001b[1;32m      4\u001b[0m     \u001b[0mget_ipython\u001b[0m\u001b[0;34m(\u001b[0m\u001b[0;34m)\u001b[0m\u001b[0;34m.\u001b[0m\u001b[0msystem\u001b[0m\u001b[0;34m(\u001b[0m\u001b[0;34m'python3 $fc.selected/anacin-x/event_graph_analysis/visualization/make_message_nd_plot.py $gfc.selected $comm_pattern.value $kernel_fc.selected $outpath.value'\u001b[0m\u001b[0;34m)\u001b[0m\u001b[0;34m\u001b[0m\u001b[0;34m\u001b[0m\u001b[0m\n\u001b[1;32m      5\u001b[0m \u001b[0;34m\u001b[0m\u001b[0m\n\u001b[0;32m----> 6\u001b[0;31m \u001b[0mImage\u001b[0m\u001b[0;34m(\u001b[0m\u001b[0mfilename\u001b[0m\u001b[0;34m=\u001b[0m\u001b[0moutpath\u001b[0m\u001b[0;34m.\u001b[0m\u001b[0mvalue\u001b[0m\u001b[0;34m+\u001b[0m\u001b[0;34m\".png\"\u001b[0m\u001b[0;34m)\u001b[0m\u001b[0;34m\u001b[0m\u001b[0;34m\u001b[0m\u001b[0m\n\u001b[0m",
      "\u001b[0;32m~/opt/anaconda3/lib/python3.8/site-packages/IPython/core/display.py\u001b[0m in \u001b[0;36m__init__\u001b[0;34m(self, data, url, filename, format, embed, width, height, retina, unconfined, metadata)\u001b[0m\n\u001b[1;32m   1222\u001b[0m         \u001b[0mself\u001b[0m\u001b[0;34m.\u001b[0m\u001b[0mretina\u001b[0m \u001b[0;34m=\u001b[0m \u001b[0mretina\u001b[0m\u001b[0;34m\u001b[0m\u001b[0;34m\u001b[0m\u001b[0m\n\u001b[1;32m   1223\u001b[0m         \u001b[0mself\u001b[0m\u001b[0;34m.\u001b[0m\u001b[0munconfined\u001b[0m \u001b[0;34m=\u001b[0m \u001b[0munconfined\u001b[0m\u001b[0;34m\u001b[0m\u001b[0;34m\u001b[0m\u001b[0m\n\u001b[0;32m-> 1224\u001b[0;31m         super(Image, self).__init__(data=data, url=url, filename=filename, \n\u001b[0m\u001b[1;32m   1225\u001b[0m                 metadata=metadata)\n\u001b[1;32m   1226\u001b[0m \u001b[0;34m\u001b[0m\u001b[0m\n",
      "\u001b[0;32m~/opt/anaconda3/lib/python3.8/site-packages/IPython/core/display.py\u001b[0m in \u001b[0;36m__init__\u001b[0;34m(self, data, url, filename, metadata)\u001b[0m\n\u001b[1;32m    628\u001b[0m             \u001b[0mself\u001b[0m\u001b[0;34m.\u001b[0m\u001b[0mmetadata\u001b[0m \u001b[0;34m=\u001b[0m \u001b[0;34m{\u001b[0m\u001b[0;34m}\u001b[0m\u001b[0;34m\u001b[0m\u001b[0;34m\u001b[0m\u001b[0m\n\u001b[1;32m    629\u001b[0m \u001b[0;34m\u001b[0m\u001b[0m\n\u001b[0;32m--> 630\u001b[0;31m         \u001b[0mself\u001b[0m\u001b[0;34m.\u001b[0m\u001b[0mreload\u001b[0m\u001b[0;34m(\u001b[0m\u001b[0;34m)\u001b[0m\u001b[0;34m\u001b[0m\u001b[0;34m\u001b[0m\u001b[0m\n\u001b[0m\u001b[1;32m    631\u001b[0m         \u001b[0mself\u001b[0m\u001b[0;34m.\u001b[0m\u001b[0m_check_data\u001b[0m\u001b[0;34m(\u001b[0m\u001b[0;34m)\u001b[0m\u001b[0;34m\u001b[0m\u001b[0;34m\u001b[0m\u001b[0m\n\u001b[1;32m    632\u001b[0m \u001b[0;34m\u001b[0m\u001b[0m\n",
      "\u001b[0;32m~/opt/anaconda3/lib/python3.8/site-packages/IPython/core/display.py\u001b[0m in \u001b[0;36mreload\u001b[0;34m(self)\u001b[0m\n\u001b[1;32m   1254\u001b[0m         \u001b[0;34m\"\"\"Reload the raw data from file or URL.\"\"\"\u001b[0m\u001b[0;34m\u001b[0m\u001b[0;34m\u001b[0m\u001b[0m\n\u001b[1;32m   1255\u001b[0m         \u001b[0;32mif\u001b[0m \u001b[0mself\u001b[0m\u001b[0;34m.\u001b[0m\u001b[0membed\u001b[0m\u001b[0;34m:\u001b[0m\u001b[0;34m\u001b[0m\u001b[0;34m\u001b[0m\u001b[0m\n\u001b[0;32m-> 1256\u001b[0;31m             \u001b[0msuper\u001b[0m\u001b[0;34m(\u001b[0m\u001b[0mImage\u001b[0m\u001b[0;34m,\u001b[0m\u001b[0mself\u001b[0m\u001b[0;34m)\u001b[0m\u001b[0;34m.\u001b[0m\u001b[0mreload\u001b[0m\u001b[0;34m(\u001b[0m\u001b[0;34m)\u001b[0m\u001b[0;34m\u001b[0m\u001b[0;34m\u001b[0m\u001b[0m\n\u001b[0m\u001b[1;32m   1257\u001b[0m             \u001b[0;32mif\u001b[0m \u001b[0mself\u001b[0m\u001b[0;34m.\u001b[0m\u001b[0mretina\u001b[0m\u001b[0;34m:\u001b[0m\u001b[0;34m\u001b[0m\u001b[0;34m\u001b[0m\u001b[0m\n\u001b[1;32m   1258\u001b[0m                 \u001b[0mself\u001b[0m\u001b[0;34m.\u001b[0m\u001b[0m_retina_shape\u001b[0m\u001b[0;34m(\u001b[0m\u001b[0;34m)\u001b[0m\u001b[0;34m\u001b[0m\u001b[0;34m\u001b[0m\u001b[0m\n",
      "\u001b[0;32m~/opt/anaconda3/lib/python3.8/site-packages/IPython/core/display.py\u001b[0m in \u001b[0;36mreload\u001b[0;34m(self)\u001b[0m\n\u001b[1;32m    653\u001b[0m         \u001b[0;34m\"\"\"Reload the raw data from file or URL.\"\"\"\u001b[0m\u001b[0;34m\u001b[0m\u001b[0;34m\u001b[0m\u001b[0m\n\u001b[1;32m    654\u001b[0m         \u001b[0;32mif\u001b[0m \u001b[0mself\u001b[0m\u001b[0;34m.\u001b[0m\u001b[0mfilename\u001b[0m \u001b[0;32mis\u001b[0m \u001b[0;32mnot\u001b[0m \u001b[0;32mNone\u001b[0m\u001b[0;34m:\u001b[0m\u001b[0;34m\u001b[0m\u001b[0;34m\u001b[0m\u001b[0m\n\u001b[0;32m--> 655\u001b[0;31m             \u001b[0;32mwith\u001b[0m \u001b[0mopen\u001b[0m\u001b[0;34m(\u001b[0m\u001b[0mself\u001b[0m\u001b[0;34m.\u001b[0m\u001b[0mfilename\u001b[0m\u001b[0;34m,\u001b[0m \u001b[0mself\u001b[0m\u001b[0;34m.\u001b[0m\u001b[0m_read_flags\u001b[0m\u001b[0;34m)\u001b[0m \u001b[0;32mas\u001b[0m \u001b[0mf\u001b[0m\u001b[0;34m:\u001b[0m\u001b[0;34m\u001b[0m\u001b[0;34m\u001b[0m\u001b[0m\n\u001b[0m\u001b[1;32m    656\u001b[0m                 \u001b[0mself\u001b[0m\u001b[0;34m.\u001b[0m\u001b[0mdata\u001b[0m \u001b[0;34m=\u001b[0m \u001b[0mf\u001b[0m\u001b[0;34m.\u001b[0m\u001b[0mread\u001b[0m\u001b[0;34m(\u001b[0m\u001b[0;34m)\u001b[0m\u001b[0;34m\u001b[0m\u001b[0;34m\u001b[0m\u001b[0m\n\u001b[1;32m    657\u001b[0m         \u001b[0;32melif\u001b[0m \u001b[0mself\u001b[0m\u001b[0;34m.\u001b[0m\u001b[0murl\u001b[0m \u001b[0;32mis\u001b[0m \u001b[0;32mnot\u001b[0m \u001b[0;32mNone\u001b[0m\u001b[0;34m:\u001b[0m\u001b[0;34m\u001b[0m\u001b[0;34m\u001b[0m\u001b[0m\n",
      "\u001b[0;31mFileNotFoundError\u001b[0m: [Errno 2] No such file or directory: '/Users/nickbell/Documents/UTK/ANACINX/ANACIN-X/file_name.png'"
     ]
    }
   ],
   "source": [
    "if gfc.selected == \"unstructured_mesh\":\n",
    "    !python3 $fc.selected/anacin-x/event_graph_analysis/visualization/make_message_nd_plot.py $gfc.selected $comm_pattern.value $kernel_fc.selected $outpath.value --nd_neighbor_fraction $unmesh_topo.value\n",
    "else:\n",
    "    !python3 $fc.selected/anacin-x/event_graph_analysis/visualization/make_message_nd_plot.py $gfc.selected $comm_pattern.value $kernel_fc.selected $outpath.value\n",
    "    \n",
    "Image(filename=outpath.value+\".png\") "
   ]
  },
  {
   "cell_type": "markdown",
   "metadata": {},
   "source": [
    "You can find your visualization png file within the location you selected above.  We thank you for using the ANACIN-X software."
   ]
  }
 ],
 "metadata": {
  "kernelspec": {
   "display_name": "Python 3",
   "language": "python",
   "name": "python3"
  },
  "language_info": {
   "codemirror_mode": {
    "name": "ipython",
    "version": 3
   },
   "file_extension": ".py",
   "mimetype": "text/x-python",
   "name": "python",
   "nbconvert_exporter": "python",
   "pygments_lexer": "ipython3",
   "version": "3.8.3"
  }
 },
 "nbformat": 4,
 "nbformat_minor": 5
}
