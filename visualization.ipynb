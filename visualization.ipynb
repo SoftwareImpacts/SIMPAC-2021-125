{
 "cells": [
  {
   "cell_type": "markdown",
   "metadata": {},
   "source": [
    "# ANACIN-X \n",
    "\n",
    "## Kernel Distance Time Series (KDTS) vs Non-Determinism Visualizer"
   ]
  },
  {
   "cell_type": "markdown",
   "metadata": {},
   "source": [
    "### This notebook can be used to save and view the output of an ANACIN-X workflow execution. \n",
    "\n"
   ]
  },
  {
   "cell_type": "markdown",
   "metadata": {},
   "source": [
    "This document will be used to visualize kernel distance (KDTS) data and Call-stack data produced by the ANACIN-X project at [this GitHub repository](https://github.com/TauferLab/ANACIN-X/tree/master).  Please refer to [research of the authors](https://ieeexplore.ieee.org/abstract/document/9435018) and [the ANACIN-X README.md](https://github.com/TauferLab/ANACIN-X/blob/master/README.md) for more information about using the project.\n",
    "\n",
    "Throughout this process you may either use files within the output of a run you've made yourself, or you may use provided sample inputs within ANACIN-X.\n",
    "\n",
    "We will walk you through inputting what’s needed for visualization, and at the end you will have access to .png images that display: (1) the relationship between event graph kernel distance and the percentage of non-determinism in a given communication pattern and (2) the callstack functions with high percentage of non-determinism."
   ]
  },
  {
   "cell_type": "markdown",
   "metadata": {},
   "source": [
    "We will start by guiding you through visualizing KDTS data by helping you find the inputs required.\n",
    "\n",
    "Below you will find inputs for 3 system paths and 2 parameter settings.  We will describe each in more detail as you need them.\n",
    "\n",
    "1. The root to your ANACIN-X directory\n",
    "2. KDTS file w/ path\n",
    "3. JSON kernel configuration file w/ path\n",
    "4. Comm pattern name\n",
    "5. Percentages of non-determinism used in the communication pattern"
   ]
  },
  {
   "cell_type": "markdown",
   "metadata": {},
   "source": [
    "First, run the following code block and use the selection tool below to target the path to the root of your project.  \n",
    "\n",
    "1. Click ‘Select’ to activate the tool.\n",
    "2. Your project root should be the path to the same directory that you ran your project from.  It may appear by default since it is the same directory this Jupyter file can be found in.\n",
    "3. Target the directory by clicking it.  Once the directory is targeted, click ‘Select’."
   ]
  },
  {
   "cell_type": "code",
   "execution_count": 13,
   "metadata": {},
   "outputs": [
    {
     "data": {
      "application/vnd.jupyter.widget-view+json": {
       "model_id": "5f1b5bcab1fd4e48a2796caa7ed2fe87",
       "version_major": 2,
       "version_minor": 0
      },
      "text/plain": [
       "FileChooser(path='/Users/nickbell/Documents/UTK/ANACINX/ANACIN-X', filename='', title='HTML(value='', layout=L…"
      ]
     },
     "metadata": {},
     "output_type": "display_data"
    }
   ],
   "source": [
    "from ipyfilechooser import FileChooser\n",
    "import ipywidgets as widgets\n",
    "from IPython.display import Image\n",
    "import os\n",
    "\n",
    "fc = FileChooser()\n",
    "display(fc)"
   ]
  },
  {
   "cell_type": "markdown",
   "metadata": {},
   "source": [
    "Second, run the following code block and use the selection tool below to target the path to the KDTS file you wish to visualize.\n",
    "\n",
    "If you wish to use provided sample data, select any file within the ANACIN-X project subdirectory 'sample_kdts'.\n",
    "\n",
    "If you wish to use your own generated kdts file, find it via the following steps:\n",
    "1. Click ‘Select’ to activate the tool.\n",
    "2. Navigate to the output of your executions.  \n",
    "3. From there, follow the directory tree down according to the inputs you made when executing the project until you find a file title ‘kdts.pkl’.\n",
    "4. Target the file by clicking it.  Once the file is targeted, click ‘Select’."
   ]
  },
  {
   "cell_type": "code",
   "execution_count": 2,
   "metadata": {
    "scrolled": false
   },
   "outputs": [
    {
     "data": {
      "application/vnd.jupyter.widget-view+json": {
       "model_id": "9a0a777633444c9097f6cc63d75863d3",
       "version_major": 2,
       "version_minor": 0
      },
      "text/plain": [
       "FileChooser(path='/Users/nickbell/Documents/UTK/ANACINX/ANACIN-X', filename='', title='HTML(value='', layout=L…"
      ]
     },
     "metadata": {},
     "output_type": "display_data"
    }
   ],
   "source": [
    "gfc = FileChooser()\n",
    "display(gfc)"
   ]
  },
  {
   "cell_type": "markdown",
   "metadata": {},
   "source": [
    "Third, run the following code block and use the selection tool below to target the path to the JSON configuration file which defines the graph kernel settings used when generating your KDTS file.\n",
    "\n",
    "If you are using provided sample data, find your JSON file within the ANACIN-X project under the path and name: \n",
    "\n",
    "anacin-x/event_graph_analysis/graph_kernel_policies/wlst_5iters_logical_timestamp_label.json\n",
    "\n",
    "If you are using your own generated kdts data, locate your JSON file via the following steps:\n",
    "1. Click ‘Select’ to activate the tool.  \n",
    "2. Navigate once more to the output of your executions.\n",
    "3. Within the root of your output, find the file with the .json file type.\n",
    "4. Target the file by clicking it.  One the file is targeted, click ‘Select’."
   ]
  },
  {
   "cell_type": "code",
   "execution_count": 3,
   "metadata": {},
   "outputs": [
    {
     "data": {
      "application/vnd.jupyter.widget-view+json": {
       "model_id": "14a0c57241684cd1a0a4640ffded0173",
       "version_major": 2,
       "version_minor": 0
      },
      "text/plain": [
       "FileChooser(path='/Users/nickbell/Documents/UTK/ANACINX/ANACIN-X', filename='', title='HTML(value='', layout=L…"
      ]
     },
     "metadata": {},
     "output_type": "display_data"
    }
   ],
   "source": [
    "kernel_fc = FileChooser()\n",
    "display(kernel_fc)"
   ]
  },
  {
   "cell_type": "markdown",
   "metadata": {},
   "source": [
    "You now need to choose which communication pattern was used for your run.  You can choose between 1 of the following 3 options:\n",
    "\n",
    "* message_race\n",
    "* amg2013\n",
    "* unstructured_mesh\n",
    "\n",
    "If you are using provided sample data, locate your pattern name within the kdts file name of the form \"samp_<pattern_name>_kdts_*>.\n",
    "\n",
    "For a reference of which communication pattern was used when generating your own results, locate the run configuration file within your output directory and find the pattern on the first line."
   ]
  },
  {
   "cell_type": "code",
   "execution_count": 4,
   "metadata": {},
   "outputs": [
    {
     "data": {
      "application/vnd.jupyter.widget-view+json": {
       "model_id": "c828bc78690049de9889caad7f6def8a",
       "version_major": 2,
       "version_minor": 0
      },
      "text/plain": [
       "RadioButtons(description='Communication Pattern:', layout=Layout(width='max-content'), options=('message_race'…"
      ]
     },
     "metadata": {},
     "output_type": "display_data"
    }
   ],
   "source": [
    "# Generate and display comm pattern selection\n",
    "comm_pattern = widgets.RadioButtons(    \n",
    "    options=['message_race', 'amg2013', 'unstructured_mesh'],\n",
    "    layout={'width': 'max-content'}, # If the items' names are long\n",
    "    style = {'description_width':'initial'},\n",
    "    description='Communication Pattern:',\n",
    "    disabled=False\n",
    ")\n",
    "display(comm_pattern)"
   ]
  },
  {
   "cell_type": "markdown",
   "metadata": {},
   "source": [
    "You need to choose the percentages of non-determinism used during your benchmark simulation by adjusting the sliders below.\n",
    "\n",
    "There are two types of non-determinism settings to select: message non-determinism and topological non-determinism. The topological non-determinism is only relevant if your communication pattern is unstructured mesh.\n",
    "\n",
    "For all benchmarks, you must select three values to define your message non-determinism settings: the starting percentage, the percentage step size, and the ending percentage.  These must satisfy the condition:\n",
    "\n",
    "starting percentage + (step size * number of percentages used) = ending percentage\n",
    "\n",
    "If you are using provided sample kdts data, you may leave the non-determinism percentage sliders below at their default values (0.0, 0.1, and 1.0)\n",
    "\n",
    "For a reference of which values were used on your own generated data, either find it in the path chosen for your KDTS file above or locate the run configuration file within your output directory and find the inputs under the line items: Starting Non-determinism Percentage, Non-determinism Percentage Step Size, and Ending Non-determinism Percentage.\n",
    "\n",
    "If you ran the Unstructured Mesh communication pattern, you will also need to select a percentage of topological non-determinism from the menu below.  You can determine which percentage is correct from the path chosen for your KDTS file above or from the run configuration file under the line item 'Topological Non-determinism Percentage'.\n",
    "\n",
    "If you did not run the Unstructured Mesh communication pattern, you can ignore the 'Topological Non-determinism Percent' selection."
   ]
  },
  {
   "cell_type": "code",
   "execution_count": 5,
   "metadata": {},
   "outputs": [
    {
     "data": {
      "application/vnd.jupyter.widget-view+json": {
       "model_id": "b72a6be549524d83909ddff060ecc688",
       "version_major": 2,
       "version_minor": 0
      },
      "text/plain": [
       "FloatSlider(value=0.0, continuous_update=False, description='Start ND%:', max=1.0, step=0.01)"
      ]
     },
     "metadata": {},
     "output_type": "display_data"
    },
    {
     "data": {
      "application/vnd.jupyter.widget-view+json": {
       "model_id": "cc5369ba74a2440390100b315c17c1c9",
       "version_major": 2,
       "version_minor": 0
      },
      "text/plain": [
       "FloatSlider(value=0.1, continuous_update=False, description='ND% Step Size:', max=1.0, step=0.01)"
      ]
     },
     "metadata": {},
     "output_type": "display_data"
    },
    {
     "data": {
      "application/vnd.jupyter.widget-view+json": {
       "model_id": "fe9bd9bf52674006afed28db962b261f",
       "version_major": 2,
       "version_minor": 0
      },
      "text/plain": [
       "FloatSlider(value=1.0, continuous_update=False, description='Ending ND%:', max=1.0, step=0.01)"
      ]
     },
     "metadata": {},
     "output_type": "display_data"
    },
    {
     "data": {
      "application/vnd.jupyter.widget-view+json": {
       "model_id": "5e5adeae80704dcaa7701048cf35cf46",
       "version_major": 2,
       "version_minor": 0
      },
      "text/plain": [
       "FloatSlider(value=0.5, continuous_update=False, description='Topological ND%:', max=1.0, step=0.01)"
      ]
     },
     "metadata": {},
     "output_type": "display_data"
    }
   ],
   "source": [
    "# Generate and display starting non-determinism percentage selection in decimal format\n",
    "nd_start = widgets.FloatSlider(\n",
    "    value=0.00,\n",
    "    min=0.00,\n",
    "    max=1.00,\n",
    "    step=0.01,\n",
    "    #layout={'width': 'max-content'},\n",
    "    #style = {'description_width':'initial'},\n",
    "    description='Start ND%:',\n",
    "    disabled=False,\n",
    "    continuous_update=False,\n",
    "    orientation='horizontal',\n",
    "    readout=True,\n",
    "    readout_format='.2f',\n",
    ")\n",
    "display(nd_start)\n",
    "\n",
    "# Generate and display starting non-determinism percentage selection in decimal format\n",
    "nd_iter = widgets.FloatSlider(\n",
    "    value=0.10,\n",
    "    min=0.00,\n",
    "    max=1.00,\n",
    "    step=0.01,\n",
    "    #style = {'description_width':'initial'},\n",
    "    description='ND% Step Size:',\n",
    "    disabled=False,\n",
    "    continuous_update=False,\n",
    "    orientation='horizontal',\n",
    "    readout=True,\n",
    "    readout_format='.2f',\n",
    ")\n",
    "display(nd_iter)\n",
    "\n",
    "# Generate and display starting non-determinism percentage selection in decimal format\n",
    "nd_end = widgets.FloatSlider(\n",
    "    value=1.00,\n",
    "    min=0.00,\n",
    "    max=1.00,\n",
    "    step=0.01,\n",
    "    #style = {'description_width':'initial'},\n",
    "    description='Ending ND%:',\n",
    "    disabled=False,\n",
    "    continuous_update=False,\n",
    "    orientation='horizontal',\n",
    "    readout=True,\n",
    "    readout_format='.2f',\n",
    ")\n",
    "display(nd_end)\n",
    "\n",
    "# Generate and display non-determinism percent selection\n",
    "#if (comm_pattern.value == \"unstructured_mesh\"):\n",
    "unmesh_topo = widgets.FloatSlider(\n",
    "    value=0.50,\n",
    "    min=0.00,\n",
    "    max=1.00,\n",
    "    step=0.01,\n",
    "    #style = {'description_width':'initial'},\n",
    "    description='Topological ND%:',\n",
    "    disabled=False,\n",
    "    continuous_update=False,\n",
    "    orientation='horizontal',\n",
    "    readout=True,\n",
    "    readout_format='.2f',\n",
    ")\n",
    "display(unmesh_topo)"
   ]
  },
  {
   "cell_type": "markdown",
   "metadata": {},
   "source": [
    "The last step of setup is getting the output file specified -- this process creates a .png file. \n",
    "\n",
    "The output path defaults to the ANACIN-X root, and needs to be in the following format:\n",
    "\n",
    "/path/to/filename\n",
    "\n",
    "The name of the file does *not* need a .png appended. Leave that out, it will be added automatically. Thus, a possible output path could be:\n",
    "\n",
    "/home/user98/ANACIN-X/my_msg_race\n",
    "\n",
    "Which will generate my_msg_race.png in the ANACIN-X folder. "
   ]
  },
  {
   "cell_type": "code",
   "execution_count": 1,
   "metadata": {},
   "outputs": [
    {
     "ename": "NameError",
     "evalue": "name 'widgets' is not defined",
     "output_type": "error",
     "traceback": [
      "\u001b[0;31m---------------------------------------------------------------------------\u001b[0m",
      "\u001b[0;31mNameError\u001b[0m                                 Traceback (most recent call last)",
      "\u001b[0;32m<ipython-input-1-2694a9b9d2dd>\u001b[0m in \u001b[0;36m<module>\u001b[0;34m\u001b[0m\n\u001b[0;32m----> 1\u001b[0;31m outpath = widgets.Text(\n\u001b[0m\u001b[1;32m      2\u001b[0m     \u001b[0mvalue\u001b[0m\u001b[0;34m=\u001b[0m\u001b[0mfc\u001b[0m\u001b[0;34m.\u001b[0m\u001b[0mselected\u001b[0m \u001b[0;34m+\u001b[0m \u001b[0;34m\"file_name\"\u001b[0m\u001b[0;34m,\u001b[0m\u001b[0;34m\u001b[0m\u001b[0;34m\u001b[0m\u001b[0m\n\u001b[1;32m      3\u001b[0m     \u001b[0mplaceholder\u001b[0m\u001b[0;34m=\u001b[0m\u001b[0;34m'/foo/bar'\u001b[0m\u001b[0;34m,\u001b[0m\u001b[0;34m\u001b[0m\u001b[0;34m\u001b[0m\u001b[0m\n\u001b[1;32m      4\u001b[0m     \u001b[0mstyle\u001b[0m \u001b[0;34m=\u001b[0m \u001b[0;34m{\u001b[0m\u001b[0;34m'description_width'\u001b[0m\u001b[0;34m:\u001b[0m\u001b[0;34m'initial'\u001b[0m\u001b[0;34m}\u001b[0m\u001b[0;34m,\u001b[0m\u001b[0;34m\u001b[0m\u001b[0;34m\u001b[0m\u001b[0m\n\u001b[1;32m      5\u001b[0m     \u001b[0mdescription\u001b[0m\u001b[0;34m=\u001b[0m\u001b[0;34m'Output file path:'\u001b[0m\u001b[0;34m,\u001b[0m\u001b[0;34m\u001b[0m\u001b[0;34m\u001b[0m\u001b[0m\n",
      "\u001b[0;31mNameError\u001b[0m: name 'widgets' is not defined"
     ]
    }
   ],
   "source": [
    "outpath = widgets.Text(\n",
    "    value=fc.selected + \"file_name\",\n",
    "    placeholder='/foo/bar',\n",
    "    style = {'description_width':'initial'},\n",
    "    description='Output file path:',\n",
    "    layout={'width': '500px'},\n",
    "    disabled=False\n",
    ")\n",
    "\n",
    "display(outpath)"
   ]
  },
  {
   "cell_type": "markdown",
   "metadata": {},
   "source": [
    "Before generating the visualization, we calculate Pearsons r and Spearmans rho correlation values.\n",
    "\n",
    "Pearsons r value is a measure between 0 and 1 of linear correlation between two sets of data that falls.  In our case, Pearsons r measures the linear correlation between the percentage of non-determinism in a communication pattern and the kernel distance in that pattern’s event graph.  For us, a high value (a value close to 1) is good.\n",
    "\n",
    "Spearmans rho value is a measure between 0 and 1 of how well the relationship between two variables can be represented with a monotonic function.  In our case, Spearmans rho measures this between the percentage of non-determinism in a communication pattern and the kernel distance in that pattern’s event graph.  For us, a high value (a value close to 1) is good.\n",
    "\n",
    "We also print the corresponding p value for both Pearsons r and Spearmans rho.  The p value describes the likelihood that the variables being studied, in this case percentage of non-determinism in a communication pattern and the kernel distance in that pattern’s event graph, don't have an effect on each other.  As such, a low p value (a value close to 0) means that the two variables are likely to affect each other.\n",
    "\n",
    "In summary, good results will have a high Pearsons r value, a high Spearmans rho value, and a low p value.\n",
    "\n",
    "For more information about Pearsons r, Spearmans rho, and p values, see the following links:\n",
    "* [Pearsons r](https://en.wikipedia.org/wiki/Pearson_correlation_coefficient) \n",
    "* [Spearmans rho](https://en.wikipedia.org/wiki/Spearman%27s_rank_correlation_coefficient)\n",
    "* [p value](https://en.wikipedia.org/wiki/P-value)"
   ]
  },
  {
   "cell_type": "markdown",
   "metadata": {},
   "source": [
    "Run the following cell to retrieve your r, rho, and p values and to visualize the ANACIN-X output. It will save the specified image file, and display it within this notebook."
   ]
  },
  {
   "cell_type": "code",
   "execution_count": 7,
   "metadata": {
    "scrolled": false
   },
   "outputs": [
    {
     "name": "stdout",
     "output_type": "stream",
     "text": [
      "Deprecation notice\r\n",
      "==================\r\n",
      "\r\n",
      "To avoid name collision with the igraph project, the original igraph visualization\r\n",
      "library has been renamed to `jgraph` in December 2015. The `igraph` package on\r\n",
      "PyPI will soon be used by the igraph project.\r\n",
      "\r\n",
      "The authors of `jgraph` (ex-igraph) and `python-igraph` (soon-to-be igraph)\r\n",
      "project have agreed on a transition period during which old projects still\r\n",
      "using `igraph` as a PyPI dependency will receive an error while trying to\r\n",
      "import igraph in their own projects. The transition period ends on Sep 1 2021.\r\n",
      "\r\n",
      "Things to do now\r\n",
      "----------------\r\n",
      "\r\n",
      "If you wanted to install the graph visualization library by Patrick Fuller,\r\n",
      "please install `jgraph` instead. You have time until Sep 1 2021 to do this.\r\n",
      "\r\n",
      "If you wanted to install the Python interface of the igraph network analysis\r\n",
      "library, please install `python-igraph` instead. After Sep 1 2021, you can\r\n",
      "start installing `igraph` instead. `python-igraph` will keep on working at\r\n",
      "least until Sep 1 2022.\r\n",
      "\r\n",
      "Traceback (most recent call last):\r\n",
      "  File \"/Users/nickbell/Documents/UTK/ANACINX/ANACIN-X//anacin-x/event_graph_analysis/visualization/make_message_nd_plot.py\", line 18, in <module>\r\n",
      "    from graph_kernel_postprocessing import flatten_distance_matrix\r\n",
      "  File \"/Users/nickbell/Documents/UTK/ANACINX/ANACIN-X/anacin-x/event_graph_analysis/visualization/../graph_kernel_postprocessing.py\", line 2, in <module>\r\n",
      "    import igraph\r\n",
      "  File \"/Users/nickbell/opt/anaconda3/lib/python3.8/site-packages/igraph/__init__.py\", line 8, in <module>\r\n",
      "    warn_deprecation()\r\n",
      "  File \"/Users/nickbell/opt/anaconda3/lib/python3.8/site-packages/igraph/_utils.py\", line 36, in warn_deprecation\r\n",
      "    raise RuntimeError(\"This package is deprecated. See the deprecation notice above.\")\r\n",
      "RuntimeError: This package is deprecated. See the deprecation notice above.\r\n"
     ]
    },
    {
     "ename": "FileNotFoundError",
     "evalue": "[Errno 2] No such file or directory: '/Users/nickbell/Documents/UTK/ANACINX/ANACIN-X/test_premade_kdts.png'",
     "output_type": "error",
     "traceback": [
      "\u001b[0;31m---------------------------------------------------------------------------\u001b[0m",
      "\u001b[0;31mFileNotFoundError\u001b[0m                         Traceback (most recent call last)",
      "\u001b[0;32m<ipython-input-7-0117e62f6e0f>\u001b[0m in \u001b[0;36m<module>\u001b[0;34m\u001b[0m\n\u001b[1;32m      4\u001b[0m     \u001b[0mget_ipython\u001b[0m\u001b[0;34m(\u001b[0m\u001b[0;34m)\u001b[0m\u001b[0;34m.\u001b[0m\u001b[0msystem\u001b[0m\u001b[0;34m(\u001b[0m\u001b[0;34m'python3 $fc.selected/anacin-x/event_graph_analysis/visualization/make_message_nd_plot.py $gfc.selected $comm_pattern.value $kernel_fc.selected $outpath.value'\u001b[0m\u001b[0;34m)\u001b[0m\u001b[0;34m\u001b[0m\u001b[0;34m\u001b[0m\u001b[0m\n\u001b[1;32m      5\u001b[0m \u001b[0;34m\u001b[0m\u001b[0m\n\u001b[0;32m----> 6\u001b[0;31m \u001b[0mImage\u001b[0m\u001b[0;34m(\u001b[0m\u001b[0mfilename\u001b[0m\u001b[0;34m=\u001b[0m\u001b[0moutpath\u001b[0m\u001b[0;34m.\u001b[0m\u001b[0mvalue\u001b[0m\u001b[0;34m+\u001b[0m\u001b[0;34m\".png\"\u001b[0m\u001b[0;34m)\u001b[0m\u001b[0;34m\u001b[0m\u001b[0;34m\u001b[0m\u001b[0m\n\u001b[0m",
      "\u001b[0;32m~/opt/anaconda3/lib/python3.8/site-packages/IPython/core/display.py\u001b[0m in \u001b[0;36m__init__\u001b[0;34m(self, data, url, filename, format, embed, width, height, retina, unconfined, metadata)\u001b[0m\n\u001b[1;32m   1222\u001b[0m         \u001b[0mself\u001b[0m\u001b[0;34m.\u001b[0m\u001b[0mretina\u001b[0m \u001b[0;34m=\u001b[0m \u001b[0mretina\u001b[0m\u001b[0;34m\u001b[0m\u001b[0;34m\u001b[0m\u001b[0m\n\u001b[1;32m   1223\u001b[0m         \u001b[0mself\u001b[0m\u001b[0;34m.\u001b[0m\u001b[0munconfined\u001b[0m \u001b[0;34m=\u001b[0m \u001b[0munconfined\u001b[0m\u001b[0;34m\u001b[0m\u001b[0;34m\u001b[0m\u001b[0m\n\u001b[0;32m-> 1224\u001b[0;31m         super(Image, self).__init__(data=data, url=url, filename=filename, \n\u001b[0m\u001b[1;32m   1225\u001b[0m                 metadata=metadata)\n\u001b[1;32m   1226\u001b[0m \u001b[0;34m\u001b[0m\u001b[0m\n",
      "\u001b[0;32m~/opt/anaconda3/lib/python3.8/site-packages/IPython/core/display.py\u001b[0m in \u001b[0;36m__init__\u001b[0;34m(self, data, url, filename, metadata)\u001b[0m\n\u001b[1;32m    628\u001b[0m             \u001b[0mself\u001b[0m\u001b[0;34m.\u001b[0m\u001b[0mmetadata\u001b[0m \u001b[0;34m=\u001b[0m \u001b[0;34m{\u001b[0m\u001b[0;34m}\u001b[0m\u001b[0;34m\u001b[0m\u001b[0;34m\u001b[0m\u001b[0m\n\u001b[1;32m    629\u001b[0m \u001b[0;34m\u001b[0m\u001b[0m\n\u001b[0;32m--> 630\u001b[0;31m         \u001b[0mself\u001b[0m\u001b[0;34m.\u001b[0m\u001b[0mreload\u001b[0m\u001b[0;34m(\u001b[0m\u001b[0;34m)\u001b[0m\u001b[0;34m\u001b[0m\u001b[0;34m\u001b[0m\u001b[0m\n\u001b[0m\u001b[1;32m    631\u001b[0m         \u001b[0mself\u001b[0m\u001b[0;34m.\u001b[0m\u001b[0m_check_data\u001b[0m\u001b[0;34m(\u001b[0m\u001b[0;34m)\u001b[0m\u001b[0;34m\u001b[0m\u001b[0;34m\u001b[0m\u001b[0m\n\u001b[1;32m    632\u001b[0m \u001b[0;34m\u001b[0m\u001b[0m\n",
      "\u001b[0;32m~/opt/anaconda3/lib/python3.8/site-packages/IPython/core/display.py\u001b[0m in \u001b[0;36mreload\u001b[0;34m(self)\u001b[0m\n\u001b[1;32m   1254\u001b[0m         \u001b[0;34m\"\"\"Reload the raw data from file or URL.\"\"\"\u001b[0m\u001b[0;34m\u001b[0m\u001b[0;34m\u001b[0m\u001b[0m\n\u001b[1;32m   1255\u001b[0m         \u001b[0;32mif\u001b[0m \u001b[0mself\u001b[0m\u001b[0;34m.\u001b[0m\u001b[0membed\u001b[0m\u001b[0;34m:\u001b[0m\u001b[0;34m\u001b[0m\u001b[0;34m\u001b[0m\u001b[0m\n\u001b[0;32m-> 1256\u001b[0;31m             \u001b[0msuper\u001b[0m\u001b[0;34m(\u001b[0m\u001b[0mImage\u001b[0m\u001b[0;34m,\u001b[0m\u001b[0mself\u001b[0m\u001b[0;34m)\u001b[0m\u001b[0;34m.\u001b[0m\u001b[0mreload\u001b[0m\u001b[0;34m(\u001b[0m\u001b[0;34m)\u001b[0m\u001b[0;34m\u001b[0m\u001b[0;34m\u001b[0m\u001b[0m\n\u001b[0m\u001b[1;32m   1257\u001b[0m             \u001b[0;32mif\u001b[0m \u001b[0mself\u001b[0m\u001b[0;34m.\u001b[0m\u001b[0mretina\u001b[0m\u001b[0;34m:\u001b[0m\u001b[0;34m\u001b[0m\u001b[0;34m\u001b[0m\u001b[0m\n\u001b[1;32m   1258\u001b[0m                 \u001b[0mself\u001b[0m\u001b[0;34m.\u001b[0m\u001b[0m_retina_shape\u001b[0m\u001b[0;34m(\u001b[0m\u001b[0;34m)\u001b[0m\u001b[0;34m\u001b[0m\u001b[0;34m\u001b[0m\u001b[0m\n",
      "\u001b[0;32m~/opt/anaconda3/lib/python3.8/site-packages/IPython/core/display.py\u001b[0m in \u001b[0;36mreload\u001b[0;34m(self)\u001b[0m\n\u001b[1;32m    653\u001b[0m         \u001b[0;34m\"\"\"Reload the raw data from file or URL.\"\"\"\u001b[0m\u001b[0;34m\u001b[0m\u001b[0;34m\u001b[0m\u001b[0m\n\u001b[1;32m    654\u001b[0m         \u001b[0;32mif\u001b[0m \u001b[0mself\u001b[0m\u001b[0;34m.\u001b[0m\u001b[0mfilename\u001b[0m \u001b[0;32mis\u001b[0m \u001b[0;32mnot\u001b[0m \u001b[0;32mNone\u001b[0m\u001b[0;34m:\u001b[0m\u001b[0;34m\u001b[0m\u001b[0;34m\u001b[0m\u001b[0m\n\u001b[0;32m--> 655\u001b[0;31m             \u001b[0;32mwith\u001b[0m \u001b[0mopen\u001b[0m\u001b[0;34m(\u001b[0m\u001b[0mself\u001b[0m\u001b[0;34m.\u001b[0m\u001b[0mfilename\u001b[0m\u001b[0;34m,\u001b[0m \u001b[0mself\u001b[0m\u001b[0;34m.\u001b[0m\u001b[0m_read_flags\u001b[0m\u001b[0;34m)\u001b[0m \u001b[0;32mas\u001b[0m \u001b[0mf\u001b[0m\u001b[0;34m:\u001b[0m\u001b[0;34m\u001b[0m\u001b[0;34m\u001b[0m\u001b[0m\n\u001b[0m\u001b[1;32m    656\u001b[0m                 \u001b[0mself\u001b[0m\u001b[0;34m.\u001b[0m\u001b[0mdata\u001b[0m \u001b[0;34m=\u001b[0m \u001b[0mf\u001b[0m\u001b[0;34m.\u001b[0m\u001b[0mread\u001b[0m\u001b[0;34m(\u001b[0m\u001b[0;34m)\u001b[0m\u001b[0;34m\u001b[0m\u001b[0;34m\u001b[0m\u001b[0m\n\u001b[1;32m    657\u001b[0m         \u001b[0;32melif\u001b[0m \u001b[0mself\u001b[0m\u001b[0;34m.\u001b[0m\u001b[0murl\u001b[0m \u001b[0;32mis\u001b[0m \u001b[0;32mnot\u001b[0m \u001b[0;32mNone\u001b[0m\u001b[0;34m:\u001b[0m\u001b[0;34m\u001b[0m\u001b[0;34m\u001b[0m\u001b[0m\n",
      "\u001b[0;31mFileNotFoundError\u001b[0m: [Errno 2] No such file or directory: '/Users/nickbell/Documents/UTK/ANACINX/ANACIN-X/test_premade_kdts.png'"
     ]
    }
   ],
   "source": [
    "if gfc.selected == \"unstructured_mesh\":\n",
    "    !python3 $fc.selected/anacin-x/event_graph_analysis/visualization/make_message_nd_plot.py $gfc.selected $comm_pattern.value $kernel_fc.selected $outpath.value --nd_neighbor_fraction $unmesh_topo.value\n",
    "else:\n",
    "    !python3 $fc.selected/anacin-x/event_graph_analysis/visualization/make_message_nd_plot.py $gfc.selected $comm_pattern.value $kernel_fc.selected $outpath.value\n",
    "    \n",
    "Image(filename=outpath.value+\".png\") "
   ]
  },
  {
   "cell_type": "markdown",
   "metadata": {},
   "source": [
    "If there were no errors, you will find your KDTS visualization png file within the location you selected above.\n",
    "\n",
    "<!-- Next, we will help you identify the additional input required to generate a visualization of call-stack data.\n",
    "\n",
    "You will need to select a policy for detecting anomalies.  -->\n",
    "\n",
    "Last, if you wish to produce a visualization for callstack data. It will display the callstack functions with the highest kernel distances.  This corresponds to the callstack functions with the highest percentages of non-determinism."
   ]
  },
  {
   "cell_type": "code",
   "execution_count": null,
   "metadata": {},
   "outputs": [],
   "source": [
    "# Select an anomaly detection policy.\n",
    "ad_path = fc.selected + \"/anacin-x/event_graph_analysis/anomaly_detection_policies/naive_max.json\"\n",
    "\n",
    "# Determine a path for storing flagged slices.\n",
    "fs_file = gfc.selected_path + \"/flagged_indices.pkl\n",
    "\n",
    "# Executable for project\n",
    "ex_file = fc.selected + \"apps/comm_pattern_analysis/build/comm_pattern_generator\"\n",
    "\n",
    "callstack_report = gfc.selected_path + \"/non_anomaly_report_for_policy_\" + os.path.splitext(os.path.split(ad_path)[1])[0] + \".txt\"\n",
    "\n",
    "# Process callstack data\n",
    "!python3 $fc.selected/anacin-x/event_graph_analysis/anomaly_detection.py $gfc.selected ad_path -o os.path.split(ad_path)[1]\n",
    "\n",
    "!python3 $fc.selected/anacin-x/event_graph_analysis/callstack_analysis.py fs_file $gfc.selected ex_file\n",
    "\n",
    "!python3 $fc.selected/anacin-x/event_graph_analysis/visualization/visualize_callstack_report.py --plot_type=\"bar_chart\""
   ]
  },
  {
   "cell_type": "markdown",
   "metadata": {},
   "source": [
    "If there were no errors, you will find your callstack visualization file in the root directory of your project.\n",
    "\n",
    "Thank you for using the ANACIN-X project."
   ]
  },
  {
   "cell_type": "code",
   "execution_count": null,
   "metadata": {},
   "outputs": [],
   "source": []
  }
 ],
 "metadata": {
  "kernelspec": {
   "display_name": "Python 3",
   "language": "python",
   "name": "python3"
  },
  "language_info": {
   "codemirror_mode": {
    "name": "ipython",
    "version": 3
   },
   "file_extension": ".py",
   "mimetype": "text/x-python",
   "name": "python",
   "nbconvert_exporter": "python",
   "pygments_lexer": "ipython3",
   "version": "3.8.3"
  }
 },
 "nbformat": 4,
 "nbformat_minor": 5
}
