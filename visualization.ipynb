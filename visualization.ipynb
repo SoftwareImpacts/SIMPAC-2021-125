{
 "cells": [
  {
   "cell_type": "markdown",
   "metadata": {},
   "source": [
    "# ANACIN-X \n",
    "\n",
    "## Kernel Distance Time Series (KDTS) vs Non-Determinism Visualizer"
   ]
  },
  {
   "cell_type": "markdown",
   "metadata": {},
   "source": [
    "### This notebook can be used to save and view the output of an ANACIN-X workflow execution. \n",
    "\n"
   ]
  },
  {
   "cell_type": "markdown",
   "metadata": {},
   "source": [
    "This document will be used to visualize kernel distance (KDTS) data and Call-stack data produced by the ANACIN-X project at [this GitHub repository](https://github.com/TauferLab/ANACIN-X/tree/master).  Please refer to [research of the authors](https://ieeexplore.ieee.org/abstract/document/9435018) and [the ANACIN-X README.md](https://github.com/TauferLab/ANACIN-X/blob/master/README.md) for more information about using the project.\n",
    "\n",
    "Throughout this process you may either use files within the output of a run you've made yourself, or you may use provided sample inputs within ANACIN-X.\n",
    "\n",
    "We will walk you through inputting what’s needed for visualization, and at the end you will have access to .png images that display: (1) the relationship between event graph kernel distance and the percentage of non-determinism in a given communication pattern and (2) the callstack functions with high percentage of non-determinism."
   ]
  },
  {
   "cell_type": "markdown",
   "metadata": {},
   "source": [
    "We will start by guiding you through visualizing KDTS data by helping you find the inputs required.\n",
    "\n",
    "Below you will find inputs for 3 system paths and 2 parameter settings.  We will describe each in more detail as you need them.\n",
    "\n",
    "1. The root to your ANACIN-X directory\n",
    "2. KDTS file w/ path\n",
    "3. JSON kernel configuration file w/ path\n",
    "4. Comm pattern name\n",
    "5. Percentages of non-determinism used in the communication pattern"
   ]
  },
  {
   "cell_type": "markdown",
   "metadata": {},
   "source": [
    "First, run the following code block and use the selection tool below to target the path to the root of your project.  \n",
    "\n",
    "1. Click ‘Select’ to activate the tool.\n",
    "2. Your project root should be the path to the same directory that you ran your project from.  It may appear by default since it is the same directory this Jupyter file can be found in.\n",
    "3. Target the directory by clicking it.  Once the directory is targeted, click ‘Select’."
   ]
  },
  {
   "cell_type": "code",
   "execution_count": 13,
   "metadata": {},
   "outputs": [
    {
     "data": {
      "application/vnd.jupyter.widget-view+json": {
       "model_id": "74257c0d162a4d6bb13c17428b2f08ee",
       "version_major": 2,
       "version_minor": 0
      },
      "text/plain": [
       "FileChooser(path='/Users/nickbell/Documents/UTK/ANACINX/ANACIN-X', filename='', title='HTML(value='', layout=L…"
      ]
     },
     "metadata": {},
     "output_type": "display_data"
    }
   ],
   "source": [
    "from ipyfilechooser import FileChooser\n",
    "import ipywidgets as widgets\n",
    "from IPython.display import Image\n",
    "import os\n",
    "\n",
    "fc = FileChooser()\n",
    "display(fc)"
   ]
  },
  {
   "cell_type": "markdown",
   "metadata": {},
   "source": [
    "Second, run the following code block and use the selection tool below to target the path to the KDTS file you wish to visualize.\n",
    "\n",
    "If you wish to use provided sample data, select any file within the ANACIN-X project subdirectory 'sample_kdts'.\n",
    "\n",
    "If you wish to use your own generated kdts file, find it via the following steps:\n",
    "1. Click ‘Select’ to activate the tool.\n",
    "2. Navigate to the output of your executions.  \n",
    "3. From there, follow the directory tree down according to the inputs you made when executing the project until you find a file title ‘kdts.pkl’.\n",
    "4. Target the file by clicking it.  Once the file is targeted, click ‘Select’."
   ]
  },
  {
   "cell_type": "code",
   "execution_count": 2,
   "metadata": {
    "scrolled": false
   },
   "outputs": [
    {
     "data": {
      "application/vnd.jupyter.widget-view+json": {
       "model_id": "38cfdb8cc20d4911925287bbc0bb9b4b",
       "version_major": 2,
       "version_minor": 0
      },
      "text/plain": [
       "FileChooser(path='/Users/nickbell/Documents/UTK/ANACINX/ANACIN-X', filename='', title='HTML(value='', layout=L…"
      ]
     },
     "metadata": {},
     "output_type": "display_data"
    }
   ],
   "source": [
    "gfc = FileChooser()\n",
    "display(gfc)"
   ]
  },
  {
   "cell_type": "markdown",
   "metadata": {},
   "source": [
    "Third, run the following code block and use the selection tool below to target the path to the JSON configuration file which defines the graph kernel settings used when generating your KDTS file.\n",
    "\n",
    "If you are using provided sample data, find your JSON file within the ANACIN-X project under the path and name: \n",
    "\n",
    "anacin-x/event_graph_analysis/graph_kernel_policies/wlst_5iters_logical_timestamp_label.json\n",
    "\n",
    "If you are using your own generated kdts data, locate your JSON file via the following steps:\n",
    "1. Click ‘Select’ to activate the tool.  \n",
    "2. Navigate once more to the output of your executions.\n",
    "3. Within the root of your output, find the file with the .json file type.\n",
    "4. Target the file by clicking it.  One the file is targeted, click ‘Select’."
   ]
  },
  {
   "cell_type": "code",
   "execution_count": 3,
   "metadata": {},
   "outputs": [
    {
     "data": {
      "application/vnd.jupyter.widget-view+json": {
       "model_id": "d0a1de3ce9594ac586e2a2cf8cd18652",
       "version_major": 2,
       "version_minor": 0
      },
      "text/plain": [
       "FileChooser(path='/Users/nickbell/Documents/UTK/ANACINX/ANACIN-X', filename='', title='HTML(value='', layout=L…"
      ]
     },
     "metadata": {},
     "output_type": "display_data"
    }
   ],
   "source": [
    "kernel_fc = FileChooser()\n",
    "display(kernel_fc)"
   ]
  },
  {
   "cell_type": "markdown",
   "metadata": {},
   "source": [
    "You now need to choose which communication pattern was used for your run.  You can choose between 1 of the following 3 options:\n",
    "\n",
    "* message_race\n",
    "* amg2013\n",
    "* unstructured_mesh\n",
    "\n",
    "If you are using provided sample data, locate your pattern name within the kdts file name of the form \"samp_<pattern_name>_kdts_*>.\n",
    "\n",
    "For a reference of which communication pattern was used when generating your own results, locate the run configuration file within your output directory and find the pattern on the first line."
   ]
  },
  {
   "cell_type": "code",
   "execution_count": 4,
   "metadata": {},
   "outputs": [
    {
     "data": {
      "application/vnd.jupyter.widget-view+json": {
       "model_id": "d9708b17dc684c3bb0a3adf8d3ac4efb",
       "version_major": 2,
       "version_minor": 0
      },
      "text/plain": [
       "RadioButtons(description='Communication Pattern:', layout=Layout(width='max-content'), options=('message_race'…"
      ]
     },
     "metadata": {},
     "output_type": "display_data"
    }
   ],
   "source": [
    "# Generate and display comm pattern selection\n",
    "comm_pattern = widgets.RadioButtons(    \n",
    "    options=['message_race', 'amg2013', 'unstructured_mesh'],\n",
    "    layout={'width': 'max-content'}, # If the items' names are long\n",
    "    style = {'description_width':'initial'},\n",
    "    description='Communication Pattern:',\n",
    "    disabled=False\n",
    ")\n",
    "display(comm_pattern)"
   ]
  },
  {
   "cell_type": "markdown",
   "metadata": {},
   "source": [
    "You need to choose the percentages of non-determinism used during your benchmark simulation by adjusting the sliders below.\n",
    "\n",
    "There are two types of non-determinism settings to select: message non-determinism and topological non-determinism. The topological non-determinism is only relevant if your communication pattern is unstructured mesh.\n",
    "\n",
    "For all benchmarks, you must select three values to define your message non-determinism settings: the starting percentage, the percentage step size, and the ending percentage.  These must satisfy the condition:\n",
    "\n",
    "starting percentage + (step size * number of percentages used) = ending percentage\n",
    "\n",
    "If you are using provided sample kdts data, you may leave the non-determinism percentage sliders below at their default values (0.0, 0.1, and 1.0)\n",
    "\n",
    "For a reference of which values were used on your own generated data, either find it in the path chosen for your KDTS file above or locate the run configuration file within your output directory and find the inputs under the line items: Starting Non-determinism Percentage, Non-determinism Percentage Step Size, and Ending Non-determinism Percentage.\n",
    "\n",
    "If you ran the Unstructured Mesh communication pattern, you will also need to select a percentage of topological non-determinism from the menu below.  You can determine which percentage is correct from the path chosen for your KDTS file above or from the run configuration file under the line item 'Topological Non-determinism Percentage'.\n",
    "\n",
    "If you did not run the Unstructured Mesh communication pattern, you can ignore the 'Topological Non-determinism Percent' selection."
   ]
  },
  {
   "cell_type": "code",
   "execution_count": 5,
   "metadata": {},
   "outputs": [
    {
     "data": {
      "application/vnd.jupyter.widget-view+json": {
       "model_id": "5e49f12b75bc46acae0452ee8fc99fc0",
       "version_major": 2,
       "version_minor": 0
      },
      "text/plain": [
       "FloatSlider(value=0.0, continuous_update=False, description='Start ND%:', max=1.0, step=0.01)"
      ]
     },
     "metadata": {},
     "output_type": "display_data"
    },
    {
     "data": {
      "application/vnd.jupyter.widget-view+json": {
       "model_id": "81e04c3e2772417ab2a790f180b68a94",
       "version_major": 2,
       "version_minor": 0
      },
      "text/plain": [
       "FloatSlider(value=0.1, continuous_update=False, description='ND% Step Size:', max=1.0, step=0.01)"
      ]
     },
     "metadata": {},
     "output_type": "display_data"
    },
    {
     "data": {
      "application/vnd.jupyter.widget-view+json": {
       "model_id": "12a01614e591481c8c89752f25893556",
       "version_major": 2,
       "version_minor": 0
      },
      "text/plain": [
       "FloatSlider(value=1.0, continuous_update=False, description='Ending ND%:', max=1.0, step=0.01)"
      ]
     },
     "metadata": {},
     "output_type": "display_data"
    },
    {
     "data": {
      "application/vnd.jupyter.widget-view+json": {
       "model_id": "cf8499d7fe9b4fbd82e7ba41ab726e2c",
       "version_major": 2,
       "version_minor": 0
      },
      "text/plain": [
       "FloatSlider(value=0.5, continuous_update=False, description='Topological ND%:', max=1.0, step=0.01)"
      ]
     },
     "metadata": {},
     "output_type": "display_data"
    }
   ],
   "source": [
    "# Generate and display starting non-determinism percentage selection in decimal format\n",
    "nd_start = widgets.FloatSlider(\n",
    "    value=0.00,\n",
    "    min=0.00,\n",
    "    max=1.00,\n",
    "    step=0.01,\n",
    "    #layout={'width': 'max-content'},\n",
    "    #style = {'description_width':'initial'},\n",
    "    description='Start ND%:',\n",
    "    disabled=False,\n",
    "    continuous_update=False,\n",
    "    orientation='horizontal',\n",
    "    readout=True,\n",
    "    readout_format='.2f',\n",
    ")\n",
    "display(nd_start)\n",
    "\n",
    "# Generate and display starting non-determinism percentage selection in decimal format\n",
    "nd_iter = widgets.FloatSlider(\n",
    "    value=0.10,\n",
    "    min=0.00,\n",
    "    max=1.00,\n",
    "    step=0.01,\n",
    "    #style = {'description_width':'initial'},\n",
    "    description='ND% Step Size:',\n",
    "    disabled=False,\n",
    "    continuous_update=False,\n",
    "    orientation='horizontal',\n",
    "    readout=True,\n",
    "    readout_format='.2f',\n",
    ")\n",
    "display(nd_iter)\n",
    "\n",
    "# Generate and display starting non-determinism percentage selection in decimal format\n",
    "nd_end = widgets.FloatSlider(\n",
    "    value=1.00,\n",
    "    min=0.00,\n",
    "    max=1.00,\n",
    "    step=0.01,\n",
    "    #style = {'description_width':'initial'},\n",
    "    description='Ending ND%:',\n",
    "    disabled=False,\n",
    "    continuous_update=False,\n",
    "    orientation='horizontal',\n",
    "    readout=True,\n",
    "    readout_format='.2f',\n",
    ")\n",
    "display(nd_end)\n",
    "\n",
    "# Generate and display non-determinism percent selection\n",
    "#if (comm_pattern.value == \"unstructured_mesh\"):\n",
    "unmesh_topo = widgets.FloatSlider(\n",
    "    value=0.50,\n",
    "    min=0.00,\n",
    "    max=1.00,\n",
    "    step=0.01,\n",
    "    #style = {'description_width':'initial'},\n",
    "    description='Topological ND%:',\n",
    "    disabled=False,\n",
    "    continuous_update=False,\n",
    "    orientation='horizontal',\n",
    "    readout=True,\n",
    "    readout_format='.2f',\n",
    ")\n",
    "display(unmesh_topo)"
   ]
  },
  {
   "cell_type": "markdown",
   "metadata": {},
   "source": [
    "The last step of setup is getting the output file specified -- this process creates a .png file. \n",
    "\n",
    "The output path defaults to the ANACIN-X root, and needs to be in the following format:\n",
    "\n",
    "/path/to/filename\n",
    "\n",
    "The name of the file does *not* need a .png appended. Leave that out, it will be added automatically. Thus, a possible output path could be:\n",
    "\n",
    "/home/user98/ANACIN-X/my_msg_race\n",
    "\n",
    "Which will generate my_msg_race.png in the ANACIN-X folder. "
   ]
  },
  {
   "cell_type": "code",
   "execution_count": 1,
   "metadata": {},
   "outputs": [
    {
     "data": {
      "application/vnd.jupyter.widget-view+json": {
       "model_id": "b08e68f62b734b1d8313d8cf445d7a3c",
       "version_major": 2,
       "version_minor": 0
      },
      "text/plain": [
       "Text(value='/Users/nickbell/Documents/UTK/ANACINX/ANACIN-X/file_name', description='Output file path:', layout…"
      ]
     },
     "metadata": {},
     "output_type": "display_data"
    }
   ],
   "source": [
    "outpath = widgets.Text(\n",
    "    value=fc.selected + \"file_name\",\n",
    "    placeholder='/foo/bar',\n",
    "    style = {'description_width':'initial'},\n",
    "    description='Output file path:',\n",
    "    layout={'width': '500px'},\n",
    "    disabled=False\n",
    ")\n",
    "\n",
    "display(outpath)"
   ]
  },
  {
   "cell_type": "markdown",
   "metadata": {},
   "source": [
    "Before generating the visualization, we calculate Pearsons r and Spearmans rho correlation values.\n",
    "\n",
    "Pearsons r value is a measure between 0 and 1 of linear correlation between two sets of data that falls.  In our case, Pearsons r measures the linear correlation between the percentage of non-determinism in a communication pattern and the kernel distance in that pattern’s event graph.  For us, a high value (a value close to 1) is good.\n",
    "\n",
    "Spearmans rho value is a measure between 0 and 1 of how well the relationship between two variables can be represented with a monotonic function.  In our case, Spearmans rho measures this between the percentage of non-determinism in a communication pattern and the kernel distance in that pattern’s event graph.  For us, a high value (a value close to 1) is good.\n",
    "\n",
    "We also print the corresponding p value for both Pearsons r and Spearmans rho.  The p value describes the likelihood that the variables being studied, in this case percentage of non-determinism in a communication pattern and the kernel distance in that pattern’s event graph, don't have an effect on each other.  As such, a low p value (a value close to 0) means that the two variables are likely to affect each other.\n",
    "\n",
    "In summary, good results will have a high Pearsons r value, a high Spearmans rho value, and a low p value.\n",
    "\n",
    "For more information about Pearsons r, Spearmans rho, and p values, see the following links:\n",
    "* [Pearsons r](https://en.wikipedia.org/wiki/Pearson_correlation_coefficient) \n",
    "* [Spearmans rho](https://en.wikipedia.org/wiki/Spearman%27s_rank_correlation_coefficient)\n",
    "* [p value](https://en.wikipedia.org/wiki/P-value)"
   ]
  },
  {
   "cell_type": "markdown",
   "metadata": {},
   "source": [
    "Run the following cell to retrieve your r, rho, and p values and to visualize the ANACIN-X output. It will save the specified image file, and display it within this notebook."
   ]
  },
  {
   "cell_type": "code",
   "execution_count": null,
   "metadata": {
    "scrolled": false
   },
   "outputs": [],
   "source": [
    "if gfc.selected == \"unstructured_mesh\":\n",
    "    !python3 $fc.selected/anacin-x/event_graph_analysis/visualization/make_message_nd_plot.py $gfc.selected $comm_pattern.value $kernel_fc.selected $outpath.value --nd_neighbor_fraction $unmesh_topo.value\n",
    "else:\n",
    "    !python3 $fc.selected/anacin-x/event_graph_analysis/visualization/make_message_nd_plot.py $gfc.selected $comm_pattern.value $kernel_fc.selected $outpath.value $nd_start.value $nd_iter.value $nd_end.value\n",
    "    \n",
    "Image(filename=outpath.value+\".png\") "
   ]
  },
  {
   "cell_type": "markdown",
   "metadata": {},
   "source": [
    "If there were no errors, you will find your KDTS visualization png file within the location you selected above.\n",
    "\n",
    "<!-- Next, we will help you identify the additional input required to generate a visualization of call-stack data.\n",
    "\n",
    "You will need to select a policy for detecting anomalies.  -->\n",
    "\n"
   ]
  },
  {
   "cell_type": "markdown",
   "metadata": {},
   "source": [
    "Last, if you wish to produce a visualization for callstack data. It will display the callstack functions with the highest kernel distances.  This corresponds to the callstack functions with the highest percentages of non-determinism."
   ]
  },
  {
   "cell_type": "code",
   "execution_count": null,
   "metadata": {},
   "outputs": [],
   "source": [
    "# Select an anomaly detection policy.\n",
    "ad_path = fc.selected + \"/anacin-x/event_graph_analysis/anomaly_detection_policies/naive_max.json\"\n",
    "\n",
    "# Determine a path for storing flagged slices.\n",
    "fs_file = gfc.selected_path + \"/flagged_indices.pkl\n",
    "\n",
    "# Executable for project\n",
    "ex_file = fc.selected + \"apps/comm_pattern_analysis/build/comm_pattern_generator\"\n",
    "\n",
    "callstack_report = gfc.selected_path + \"/non_anomaly_report_for_policy_\" + os.path.splitext(os.path.split(ad_path)[1])[0] + \".txt\"\n",
    "\n",
    "# Process callstack data\n",
    "!python3 $fc.selected/anacin-x/event_graph_analysis/anomaly_detection.py $gfc.selected ad_path -o os.path.split(ad_path)[1]\n",
    "\n",
    "!python3 $fc.selected/anacin-x/event_graph_analysis/callstack_analysis.py fs_file $gfc.selected ex_file\n",
    "\n",
    "!python3 $fc.selected/anacin-x/event_graph_analysis/visualization/visualize_callstack_report.py --plot_type=\"bar_chart\""
   ]
  },
  {
   "cell_type": "markdown",
   "metadata": {},
   "source": [
    "If there were no errors, you will find your callstack visualization file in the root directory of your project.\n",
    "\n",
    "Thank you for using the ANACIN-X project."
   ]
  },
  {
   "cell_type": "code",
   "execution_count": null,
   "metadata": {},
   "outputs": [],
   "source": []
  }
 ],
 "metadata": {
  "kernelspec": {
   "display_name": "Python 3",
   "language": "python",
   "name": "python3"
  },
  "language_info": {
   "codemirror_mode": {
    "name": "ipython",
    "version": 3
   },
   "file_extension": ".py",
   "mimetype": "text/x-python",
   "name": "python",
   "nbconvert_exporter": "python",
   "pygments_lexer": "ipython3",
   "version": "3.8.3"
  }
 },
 "nbformat": 4,
 "nbformat_minor": 5
}
